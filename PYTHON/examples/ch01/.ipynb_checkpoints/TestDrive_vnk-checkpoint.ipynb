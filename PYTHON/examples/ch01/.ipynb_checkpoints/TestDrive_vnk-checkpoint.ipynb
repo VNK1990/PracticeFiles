{
 "cells": [
  {
   "cell_type": "code",
   "execution_count": null,
   "id": "a6720dae-94a9-404f-89c6-dca9bbc96ed9",
   "metadata": {
    "tags": []
   },
   "outputs": [],
   "source": [
    "45+72"
   ]
  },
  {
   "cell_type": "code",
   "execution_count": null,
   "id": "59ca499e-94dc-4f53-9a64-99b99cd08f7a",
   "metadata": {},
   "outputs": [],
   "source": [
    "5 * (12.7 -4) /2"
   ]
  }
 ],
 "metadata": {
  "kernelspec": {
   "display_name": "Python 3",
   "language": "python",
   "name": "python3"
  },
  "language_info": {
   "codemirror_mode": {
    "name": "ipython",
    "version": 3
   },
   "file_extension": ".py",
   "mimetype": "text/x-python",
   "name": "python",
   "nbconvert_exporter": "python",
   "pygments_lexer": "ipython3",
   "version": "3.8.11"
  }
 },
 "nbformat": 4,
 "nbformat_minor": 5
}
